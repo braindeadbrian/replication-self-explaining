{
  "nbformat": 4,
  "nbformat_minor": 0,
  "metadata": {
    "colab": {
      "provenance": []
    },
    "kernelspec": {
      "name": "python3",
      "display_name": "Python 3"
    },
    "language_info": {
      "name": "python"
    },
    "accelerator": "GPU",
    "gpuClass": "standard"
  },
  "cells": [
    {
      "cell_type": "markdown",
      "source": [
        "#Self Explaining Structures Improve NLP Models: Reproducibility Study\n",
        "###Group Members: Dhyay, Brian, Rathi \n",
        "\n",
        "**README:**\n",
        "1. Save the folder submitted with this notebook on your drive. \n",
        "2. Mount your drive. \n",
        "3. The folder structure is as follows:\n",
        "- project:\n",
        "  - sst_data (SST5 Dataset)\n",
        "  - snli_1.0 (SNLI Dataset)\n",
        "  - interpretability (Extracted spans, incorrect samples for SST5)\n",
        "  - interpret_snli (Extracted spans, incorrect samples for SNLI)\n",
        "- The last two folders are populated during execution "
      ],
      "metadata": {
        "id": "pri7QywVzK4-"
      }
    },
    {
      "cell_type": "code",
      "source": [
        "!pip install transformers"
      ],
      "metadata": {
        "id": "HNybxt1JsPVR",
        "colab": {
          "base_uri": "https://localhost:8080/"
        },
        "outputId": "d609f201-ba35-4310-be62-70b729621c2e"
      },
      "execution_count": null,
      "outputs": [
        {
          "output_type": "stream",
          "name": "stdout",
          "text": [
            "Looking in indexes: https://pypi.org/simple, https://us-python.pkg.dev/colab-wheels/public/simple/\n",
            "Requirement already satisfied: transformers in /usr/local/lib/python3.8/dist-packages (4.25.1)\n",
            "Requirement already satisfied: packaging>=20.0 in /usr/local/lib/python3.8/dist-packages (from transformers) (21.3)\n",
            "Requirement already satisfied: regex!=2019.12.17 in /usr/local/lib/python3.8/dist-packages (from transformers) (2022.6.2)\n",
            "Requirement already satisfied: tqdm>=4.27 in /usr/local/lib/python3.8/dist-packages (from transformers) (4.64.1)\n",
            "Requirement already satisfied: numpy>=1.17 in /usr/local/lib/python3.8/dist-packages (from transformers) (1.21.6)\n",
            "Requirement already satisfied: requests in /usr/local/lib/python3.8/dist-packages (from transformers) (2.23.0)\n",
            "Requirement already satisfied: tokenizers!=0.11.3,<0.14,>=0.11.1 in /usr/local/lib/python3.8/dist-packages (from transformers) (0.13.2)\n",
            "Requirement already satisfied: filelock in /usr/local/lib/python3.8/dist-packages (from transformers) (3.8.0)\n",
            "Requirement already satisfied: huggingface-hub<1.0,>=0.10.0 in /usr/local/lib/python3.8/dist-packages (from transformers) (0.11.1)\n",
            "Requirement already satisfied: pyyaml>=5.1 in /usr/local/lib/python3.8/dist-packages (from transformers) (6.0)\n",
            "Requirement already satisfied: typing-extensions>=3.7.4.3 in /usr/local/lib/python3.8/dist-packages (from huggingface-hub<1.0,>=0.10.0->transformers) (4.4.0)\n",
            "Requirement already satisfied: pyparsing!=3.0.5,>=2.0.2 in /usr/local/lib/python3.8/dist-packages (from packaging>=20.0->transformers) (3.0.9)\n",
            "Requirement already satisfied: certifi>=2017.4.17 in /usr/local/lib/python3.8/dist-packages (from requests->transformers) (2022.9.24)\n",
            "Requirement already satisfied: urllib3!=1.25.0,!=1.25.1,<1.26,>=1.21.1 in /usr/local/lib/python3.8/dist-packages (from requests->transformers) (1.24.3)\n",
            "Requirement already satisfied: chardet<4,>=3.0.2 in /usr/local/lib/python3.8/dist-packages (from requests->transformers) (3.0.4)\n",
            "Requirement already satisfied: idna<3,>=2.5 in /usr/local/lib/python3.8/dist-packages (from requests->transformers) (2.10)\n"
          ]
        }
      ]
    },
    {
      "cell_type": "code",
      "source": [
        "from google.colab import drive\n",
        "drive.mount('/content/drive')"
      ],
      "metadata": {
        "colab": {
          "base_uri": "https://localhost:8080/"
        },
        "id": "mtz7k8YXqHc4",
        "outputId": "d1ce23b2-a625-44b4-f321-3292000652fa"
      },
      "execution_count": null,
      "outputs": [
        {
          "output_type": "stream",
          "name": "stdout",
          "text": [
            "Drive already mounted at /content/drive; to attempt to forcibly remount, call drive.mount(\"/content/drive\", force_remount=True).\n"
          ]
        }
      ]
    },
    {
      "cell_type": "code",
      "execution_count": null,
      "metadata": {
        "id": "L5sjDp6xCH2y"
      },
      "outputs": [],
      "source": [
        "import numpy as np\n",
        "import torch\n",
        "from torch import nn\n",
        "from transformers import RobertaModel, RobertaConfig\n",
        "from transformers import get_linear_schedule_with_warmup, AdamW\n",
        "from typing import List\n",
        "import os\n",
        "from functools import partial\n",
        "from transformers import RobertaTokenizer\n",
        "from torch.utils.data import Dataset, DataLoader\n",
        "import torch.nn.functional as F\n",
        "from tqdm.notebook import tqdm\n",
        "import string\n",
        "import json"
      ]
    },
    {
      "cell_type": "code",
      "source": [
        "assert torch.cuda.is_available(), \"no GPU found, in Colab go to 'Edit->Notebook settings' and choose a GPU hardware accelerator\"\n",
        "\n",
        "device = torch.device(\"cuda\")"
      ],
      "metadata": {
        "id": "Ncml2C7p7THR"
      },
      "execution_count": null,
      "outputs": []
    },
    {
      "cell_type": "markdown",
      "source": [
        "The collate function takes in batched input ids, pads them to the maximum length, reshapes the labels and creates span indices. This data is fed into the model. "
      ],
      "metadata": {
        "id": "0AtZQgXgyuz8"
      }
    },
    {
      "cell_type": "code",
      "source": [
        "def collate(data):\n",
        "\n",
        "    reformated_input = []\n",
        "    bsz = len(data)\n",
        "    batch_list = np.array(data)\n",
        "    max_len = batch_list[:,2].max()\n",
        "\n",
        "    seq_ids = torch.ones(bsz,max_len, dtype=data[0][0][0].dtype)\n",
        "    labels = torch.from_numpy(batch_list[:,1].astype(np.int64)).unsqueeze(1)\n",
        "    seq_lengths = torch.from_numpy(batch_list[:,2].astype(np.int64)).unsqueeze(1)\n",
        "    reformated_input.append(seq_ids)\n",
        "    reformated_input.append(labels)\n",
        "    reformated_input.append(seq_lengths)\n",
        "\n",
        "    for b in range(bsz):\n",
        "      for ele in range(data[b][2]):\n",
        "        reformated_input[0][b][ele] = data[b][0][ele]\n",
        "\n",
        "    start_indices = []\n",
        "    end_indices = []\n",
        "    for i in range(1, max_len - 1):\n",
        "        for j in range(i, max_len - 1):\n",
        "            start_indices.append(i)\n",
        "            end_indices.append(j)\n",
        "\n",
        "    reformated_input.append(torch.LongTensor(start_indices))\n",
        "    reformated_input.append(torch.LongTensor(end_indices))\n",
        "      \n",
        "    return reformated_input"
      ],
      "metadata": {
        "id": "DtBiuzeyM7ST"
      },
      "execution_count": null,
      "outputs": []
    },
    {
      "cell_type": "markdown",
      "source": [
        "The model is described in the class below, it consists of the following layers:\n",
        "1. Intermediate - Roberta Base Transformer\n",
        "2. SIC - Span Infor Collect Layer: FFN which performs the tanh operation\n",
        "3. Interpretation - Assigns weights to each span \n",
        "4. Output - Computes output using weighted spans"
      ],
      "metadata": {
        "id": "-CIDTSQt_97b"
      }
    },
    {
      "cell_type": "code",
      "source": [
        "class SelfExplainingModel(nn.Module):\n",
        "   def __init__(self):\n",
        "      super().__init__()\n",
        "      self.config = RobertaConfig.from_pretrained('roberta-base', output_hidden_states=False, num_labels=5)\n",
        "      self.intermediate = RobertaModel.from_pretrained('roberta-base', num_labels=5).to(device)\n",
        "      self.sic_w1 = nn.Linear(self.config.hidden_size, self.config.hidden_size)\n",
        "      self.sic_w2 = nn.Linear(self.config.hidden_size, self.config.hidden_size)\n",
        "      self.sic_w3 = nn.Linear(self.config.hidden_size, self.config.hidden_size)\n",
        "      self.sic_w4 = nn.Linear(self.config.hidden_size, self.config.hidden_size)\n",
        "      self.interpretation = nn.Linear(self.config.hidden_size, 1)\n",
        "      self.output = nn.Linear(self.config.hidden_size, self.config.num_labels)\n",
        "   def forward(self, input, start, end):\n",
        "      mask = (input != 1).long()\n",
        "      output = self.intermediate(input, attention_mask=mask)[0]\n",
        "      output = output.to(device)\n",
        "      w1h = self.sic_w1(output)\n",
        "      w2h = self.sic_w2(output)\n",
        "      w3h = self.sic_w3(output)\n",
        "      w4h = self.sic_w4(output)\n",
        "      w1hi = torch.index_select(w1h, 1, start)\n",
        "      w2hj = torch.index_select(w2h, 1, end)\n",
        "      w3hi = torch.index_select(w3h, 1, start)\n",
        "      w3hj = torch.index_select(w3h, 1, end)\n",
        "      w4hi = torch.index_select(w4h, 1, start)\n",
        "      w4hj = torch.index_select(w4h, 1, end)\n",
        "      output = w1hi + w2hj + (w3hi - w3hj) + torch.mul(w4hi, w4hj)\n",
        "      hij = torch.tanh(output)\n",
        "      span = self.interpretation(hij).squeeze(-1)\n",
        "      aij = F.softmax(span, dim=1)\n",
        "      output = (aij.unsqueeze(-1) * hij).sum(dim = 1)\n",
        "      output = self.output(output)\n",
        "      # print(output.shape)\n",
        "      # print(output)\n",
        "      output_softmax = F.softmax(output, dim=1)\n",
        "      # print(output_softmax.shape)\n",
        "      # print(output_softmax)\n",
        "      return output, output_softmax, aij\n"
      ],
      "metadata": {
        "id": "FMbthk246RXh"
      },
      "execution_count": null,
      "outputs": []
    },
    {
      "cell_type": "markdown",
      "source": [
        "SST Dataset Class"
      ],
      "metadata": {
        "id": "e2MUoJxvAyJ3"
      }
    },
    {
      "cell_type": "code",
      "source": [
        "def preprocess(text, tokenizer):\n",
        "    text = text.strip()\n",
        "    if text[-1] == \".\":\n",
        "        text = text[:-1]\n",
        "    text = tokenizer.encode(text, add_special_tokens=False)\n",
        "    text = text[:510]\n",
        "    return text"
      ],
      "metadata": {
        "id": "8OIoAYUdW5GU"
      },
      "execution_count": null,
      "outputs": []
    },
    {
      "cell_type": "code",
      "source": [
        "class SSTDataset(torch.utils.data.Dataset):\n",
        "    def __init__(self, path, mode):\n",
        "        super().__init__()\n",
        "        self.max_length = 512\n",
        "        with open(path + mode + '.txt', 'r', encoding='utf8') as f:\n",
        "            self.data = f.readlines()\n",
        "        self.tokenizer = RobertaTokenizer.from_pretrained(\"roberta-base\")\n",
        "\n",
        "    def __len__(self):\n",
        "        return len(self.data)\n",
        "\n",
        "    def __getitem__(self, ind):\n",
        "        data = self.data[ind]\n",
        "        label, input = data.split('\\t', 1)\n",
        "        input = preprocess(input, self.tokenizer)\n",
        "        length = torch.LongTensor([len(input) + 2])\n",
        "        input = torch.LongTensor([0] + input + [2])\n",
        "        label = torch.LongTensor([int(label)])\n",
        "        return input, label, length"
      ],
      "metadata": {
        "id": "jWxcuPF1ODbo"
      },
      "execution_count": null,
      "outputs": []
    },
    {
      "cell_type": "code",
      "source": [
        "def train(model, dataloader, epochs, reg_lambda):\n",
        "    train_loss = []\n",
        "    val_acc = []\n",
        "    for epoch in range(epochs):\n",
        "        print('Epoch: ', epoch)\n",
        "        loss = 0\n",
        "        model.train()\n",
        "        for ind, (input, label, length, start, end) in enumerate(tqdm(dataloader)):\n",
        "            model.zero_grad()\n",
        "            # optimizer.zero_grad()\n",
        "            output, output_softmax, a_ij = model(input.cuda(), start.cuda(), end.cuda())\n",
        "            output_labels = torch.argmax(output_softmax, dim=-1).cuda()\n",
        " \n",
        "            label = label.view(-1).cuda()\n",
        "            loss = criterion(output, label) - reg_lambda*a_ij.pow(2).sum(dim=1).mean()\n",
        "          \n",
        "            loss.backward()\n",
        "            optimizer.step()\n",
        "            loss += loss.item()\n",
        "        # test()\n",
        "        scheduler.step()\n",
        "        model.eval()\n",
        "        _, _, _, acc, _ = test(model, valloader, isFileOutput=False)\n",
        "        print('Train loss: ', loss)\n",
        "        train_loss.append(loss.item())\n",
        "        print('Validation Acc: ', acc)\n",
        "        val_acc.append(acc.item())\n",
        "    return train_loss, val_acc\n"
      ],
      "metadata": {
        "id": "5ri93LiD6H0u"
      },
      "execution_count": null,
      "outputs": []
    },
    {
      "cell_type": "code",
      "source": [
        "def getSpans(input,label,length,start,end,pred,aij,k=5):\n",
        "  topkvalues, topkindices = torch.topk(aij, k)\n",
        "  spans = []\n",
        "  explainers = []\n",
        "  incorrect_labels = []\n",
        "  avg_span_length = 0\n",
        "  span_len = 0\n",
        "  c = 0\n",
        "  for i in range(input.shape[0]):\n",
        "    c += 1\n",
        "    sent_ids = input[i].tolist()\n",
        "    # print(sent_ids)\n",
        "    tok = RobertaTokenizer.from_pretrained('roberta-base')\n",
        "    sent = tok.decode(sent_ids, skip_special_tokens=True)\n",
        "    for j in range(5):\n",
        "      max_prob = topkvalues[i][j]\n",
        "      span_sent = tok.decode(sent_ids[start[topkindices[i][j]]:end[topkindices[i][j]]+1],skip_special_tokens=True)\n",
        "      sent_before_span = tok.decode(sent_ids[:start[topkindices[i][j]]],skip_special_tokens=True)\n",
        "      sent_after_span = tok.decode(sent_ids[end[topkindices[i][j]]+1:],skip_special_tokens=True)\n",
        "      line0 = sent_before_span + '【' + span_sent + '】' + sent_after_span\n",
        "      explainers.append(format('%.4f' % max_prob) + \"->\" + line0 + '\\n')\n",
        "      if(j==0):\n",
        "        span_len += end[topkindices[i][j]] - start[topkindices[i][j]] + 1\n",
        "        line1 = str(label[i].item()) + '\\t' + span_sent + '\\n'\n",
        "        spans.append(line1)\n",
        "        if(pred[i] != label[i]):\n",
        "          line2 = 'Correct: ' + str(label[i].item()) + '\\t' + 'Predicted: ' + str(pred[i].item()) + '\\t' + line0 + '\\n'\n",
        "          incorrect_labels.append(line2)\n",
        "    avg_span_length = span_len/c\n",
        "  return spans, explainers, incorrect_labels, avg_span_length\n",
        "\n"
      ],
      "metadata": {
        "id": "M8GnXFji4ncm"
      },
      "execution_count": null,
      "outputs": []
    },
    {
      "cell_type": "code",
      "source": [
        "def test(model, testloader, isFileOutput=False):\n",
        "    model.eval()\n",
        "    correct = 0\n",
        "    spans_list = []\n",
        "    explainers_list = []\n",
        "    incorrect_labels_list = []\n",
        "    span_len = 0\n",
        "    c = 0\n",
        "    with torch.no_grad():\n",
        "      for ind, (input, label, length, start, end) in enumerate(tqdm(testloader)):\n",
        "          # print(input)\n",
        "          c+=1\n",
        "          output, output_softmax, aij = model(input.cuda(), start.cuda(), end.cuda())\n",
        "          # print(output_softmax)\n",
        "          label = label.reshape(output_softmax.shape[0]).cuda()\n",
        "          pred = torch.argmax(output_softmax, dim=-1)\n",
        "          if (isFileOutput):\n",
        "            spans, explainers, incorrect_labels, avg_span_length = getSpans(input,label,length,start,end,pred,aij)\n",
        "            spans_list.append(spans)\n",
        "            explainers_list.append(explainers)\n",
        "            incorrect_labels_list.append(incorrect_labels)\n",
        "            span_len += avg_span_length\n",
        "        \n",
        "          count = (pred == label).sum()\n",
        "          correct = correct + count\n",
        "    print('Accuracy: ', correct/len(testloader.dataset))\n",
        "    print('Avg span length: ', span_len/c)\n",
        "    acc = correct/len(testloader.dataset)\n",
        "    return spans_list, explainers_list, incorrect_labels_list, acc, span_len/c"
      ],
      "metadata": {
        "id": "3XWk7uju6K9L"
      },
      "execution_count": null,
      "outputs": []
    },
    {
      "cell_type": "markdown",
      "source": [
        "Experiments and Training on the SST-5 Dataset"
      ],
      "metadata": {
        "id": "TdyC-jk9BTrb"
      }
    },
    {
      "cell_type": "code",
      "source": [
        "path = '/content/drive/MyDrive/project/sst_data/'\n",
        "train_iter = SSTDataset(path, mode=\"train\")\n",
        "test_iter = SSTDataset(path, mode=\"test\")\n",
        "val_iter = SSTDataset(path, mode=\"dev\")\n",
        "dataloader = DataLoader(train_iter, batch_size=10, shuffle=False, collate_fn=partial(collate))\n",
        "testloader = DataLoader(test_iter, batch_size=10, shuffle=False, collate_fn=partial(collate))\n",
        "valloader = DataLoader(val_iter, batch_size=10, shuffle=False, collate_fn=partial(collate))"
      ],
      "metadata": {
        "id": "SCx23WDd5_gt"
      },
      "execution_count": null,
      "outputs": []
    },
    {
      "cell_type": "markdown",
      "source": [
        "Hyperparameters"
      ],
      "metadata": {
        "id": "bOOh1gyewGKB"
      }
    },
    {
      "cell_type": "code",
      "source": [
        "model = SelfExplainingModel().to(device)\n",
        "# optimizer = torch.optim.Adam(model.parameters(), lr=2e-5)\n",
        "optimizer = AdamW(model.parameters(), lr=2e-5)\n",
        "criterion = nn.CrossEntropyLoss()\n",
        "reg_lambda = 1\n",
        "num_epochs = 20\n",
        "scheduler = get_linear_schedule_with_warmup(optimizer, num_warmup_steps=0.1*len(dataloader), num_training_steps=len(dataloader))"
      ],
      "metadata": {
        "colab": {
          "base_uri": "https://localhost:8080/"
        },
        "id": "47Ah9ILy6DHi",
        "outputId": "48af8fd0-6bec-4c98-f24f-779babde4d46"
      },
      "execution_count": null,
      "outputs": [
        {
          "output_type": "stream",
          "name": "stderr",
          "text": [
            "Some weights of the model checkpoint at roberta-base were not used when initializing RobertaModel: ['lm_head.bias', 'lm_head.decoder.weight', 'lm_head.layer_norm.weight', 'lm_head.dense.bias', 'lm_head.layer_norm.bias', 'lm_head.dense.weight']\n",
            "- This IS expected if you are initializing RobertaModel from the checkpoint of a model trained on another task or with another architecture (e.g. initializing a BertForSequenceClassification model from a BertForPreTraining model).\n",
            "- This IS NOT expected if you are initializing RobertaModel from the checkpoint of a model that you expect to be exactly identical (initializing a BertForSequenceClassification model from a BertForSequenceClassification model).\n"
          ]
        }
      ]
    },
    {
      "cell_type": "code",
      "source": [
        "train_loss, val_acc = train(model, dataloader, num_epochs, reg_lambda)"
      ],
      "metadata": {
        "id": "OYZEk_myDdwo"
      },
      "execution_count": null,
      "outputs": []
    },
    {
      "cell_type": "code",
      "source": [
        "#saving the model checkpoint\n",
        "EPOCH = num_epochs\n",
        "PATH = \"/content/drive/MyDrive/project/orig_train_model.pt\"\n",
        "LOSS = 1.2227 #replace with obtained loss\n",
        "\n",
        "torch.save({\n",
        "            'epoch': EPOCH,\n",
        "            'model_state_dict': model.state_dict(),\n",
        "            'optimizer_state_dict': optimizer.state_dict(),\n",
        "            'loss': LOSS,\n",
        "            }, PATH)"
      ],
      "metadata": {
        "id": "a8gR8njuBcUD"
      },
      "execution_count": null,
      "outputs": []
    },
    {
      "cell_type": "code",
      "source": [
        "#loading model checkpoint\n",
        "PATH = \"/content/drive/MyDrive/project/orig_train_model.pt\"\n",
        "checkpoint = torch.load(PATH)\n",
        "model.load_state_dict(checkpoint['model_state_dict'])\n",
        "optimizer.load_state_dict(checkpoint['optimizer_state_dict'])\n",
        "epoch = checkpoint['epoch']\n",
        "loss = checkpoint['loss']"
      ],
      "metadata": {
        "id": "3nN-PuehjGWZ"
      },
      "execution_count": null,
      "outputs": []
    },
    {
      "cell_type": "code",
      "source": [
        "#Test\n",
        "spans, explainers, incorrect_labels, acc, avg_span_length = test(model, testloader, isFileOutput=True)"
      ],
      "metadata": {
        "id": "4NhhiLVUDb-h"
      },
      "execution_count": null,
      "outputs": []
    },
    {
      "cell_type": "code",
      "source": [
        "import matplotlib.pyplot as plt\n",
        "l = [0,1,1.5,3]\n",
        "accs = [0.5447,0.5651,0.5615,0.5551]\n",
        "plt.plot(l,accs)\n",
        "plt.xlabel(\"Lambda\")\n",
        "plt.ylabel(\"Accuracy\")\n",
        "plt.show()"
      ],
      "metadata": {
        "colab": {
          "base_uri": "https://localhost:8080/",
          "height": 279
        },
        "id": "dW0dDRZg7eUr",
        "outputId": "567e74c2-c65a-4e4e-f1d3-fddfc2e62f10"
      },
      "execution_count": null,
      "outputs": [
        {
          "output_type": "display_data",
          "data": {
            "text/plain": [
              "<Figure size 432x288 with 1 Axes>"
            ],
            "image/png": "[encoded data removed]"
          },
          "metadata": {
            "needs_background": "light"
          }
        }
      ]
    },
    {
      "cell_type": "code",
      "source": [
        "#Save test spans and results\n",
        "path = '/content/drive/MyDrive/project/interpretability/'\n",
        "with open(path + 'explainers.txt', 'w', encoding='utf8') as f:\n",
        "  for item in explainers:\n",
        "    for ele in item:\n",
        "      f.write(str(ele))\n",
        "with open(path + 'spans.txt', 'w', encoding='utf8') as f:\n",
        "  for item in spans:\n",
        "    for ele in item:\n",
        "      f.write(str(ele))\n",
        "with open(path +  'incorrect_labels.txt', 'w', encoding='utf8') as f:\n",
        "  for item in incorrect_labels:\n",
        "    for ele in item:\n",
        "      f.write(str(ele))"
      ],
      "metadata": {
        "id": "eQW-tnGlV7BC"
      },
      "execution_count": null,
      "outputs": []
    },
    {
      "cell_type": "code",
      "source": [
        "#Training on original train and testing on spans\n",
        "testspan_iter = SSTDataset(path, mode=\"spans\")\n",
        "testspan_loader = DataLoader(testspan_iter, batch_size=10, shuffle=False, collate_fn=partial(collate))\n",
        "spans, explainers, incorrect_labels, acc, avg_span_length = test(model, testspan_loader, isFileOutput=True)"
      ],
      "metadata": {
        "id": "ZmjHcUIK2Arq"
      },
      "execution_count": null,
      "outputs": []
    },
    {
      "cell_type": "code",
      "source": [
        "#Save test spans and results\n",
        "spans, explainers, incorrect_labels, acc = test(dataloader, isFileOutput=True)\n",
        "with open(path + 'train_explainers.txt', 'w', encoding='utf8') as f:\n",
        "  for item in explainers:\n",
        "    for ele in item:\n",
        "      f.write(str(ele))\n",
        "with open(path + 'train_spans.txt', 'w', encoding='utf8') as f:\n",
        "  for item in spans:\n",
        "    for ele in item:\n",
        "      f.write(str(ele))\n",
        "with open(path +  'train_incorrect_labels.txt', 'w', encoding='utf8') as f:\n",
        "  for item in incorrect_labels:\n",
        "    for ele in item:\n",
        "      f.write(str(ele))"
      ],
      "metadata": {
        "id": "q02qgV0A5cTB"
      },
      "execution_count": null,
      "outputs": []
    },
    {
      "cell_type": "code",
      "source": [
        "#Training on span train\n",
        "trainspan_iter = SSTDataset(path, mode=\"train_spans\")\n",
        "trainspan_loader = DataLoader(trainspan_iter, batch_size=10, shuffle=False, collate_fn=partial(collate))\n",
        "train(model, trainspan_loader, num_epochs, reg_lambda)"
      ],
      "metadata": {
        "id": "zKjh5WyQCPUk"
      },
      "execution_count": null,
      "outputs": []
    },
    {
      "cell_type": "code",
      "source": [
        "EPOCH = num_epochs\n",
        "PATH = \"/content/drive/MyDrive/project/span_train_model.pt\"\n",
        "LOSS = 2.6895 #change to obtained loss\n",
        "\n",
        "torch.save({\n",
        "            'epoch': EPOCH,\n",
        "            'model_state_dict': model.state_dict(),\n",
        "            'optimizer_state_dict': optimizer.state_dict(),\n",
        "            'loss': LOSS,\n",
        "            }, PATH)"
      ],
      "metadata": {
        "id": "28s4bX1DHImE"
      },
      "execution_count": null,
      "outputs": []
    },
    {
      "cell_type": "code",
      "source": [
        "#Testing on orig test\n",
        "spans, explainers, incorrect_labels, acc, avg_span_length = test(model, testloader, isFileOutput=True)"
      ],
      "metadata": {
        "id": "aH9I4xyJHyIL"
      },
      "execution_count": null,
      "outputs": []
    },
    {
      "cell_type": "code",
      "source": [
        "#Testing on span test\n",
        "spans, explainers, incorrect_labels, acc, avg_span_length = test(testspan_loader, isFileOutput=True)"
      ],
      "metadata": {
        "id": "sD6yz5DlH4Sw"
      },
      "execution_count": null,
      "outputs": []
    },
    {
      "cell_type": "markdown",
      "source": [
        "SNLI Dataset Class"
      ],
      "metadata": {
        "id": "CVqk--QAA0_H"
      }
    },
    {
      "cell_type": "code",
      "source": [
        "class SNLIDataset(torch.utils.data.Dataset):\n",
        "    def __init__(self, path, mode):\n",
        "        super().__init__()\n",
        "        self.max_length = 512\n",
        "        self.data = []\n",
        "        self.input1 = []\n",
        "        self.input2 = []\n",
        "        self.label = []\n",
        "        labels = {\"contradiction\": 0, 'neutral': 1, \"entailment\": 2}\n",
        "        with open(path + 'snli_1.0_' + mode + '.jsonl', 'r', encoding='utf8') as f:\n",
        "            self.data = [json.loads(line) for line in f]\n",
        "        for data in self.data:\n",
        "            if data['gold_label'] not in labels:\n",
        "                continue\n",
        "            self.input1.append(data['sentence1'])\n",
        "            self.input2.append(data['sentence2'])\n",
        "            self.label.append(labels[data['gold_label']])\n",
        "        self.tokenizer = RobertaTokenizer.from_pretrained(\"roberta-base\")\n",
        "\n",
        "    def __len__(self):\n",
        "        return len(self.data)\n",
        "\n",
        "    def __getitem__(self, ind):\n",
        "        in1 = self.input1[ind]\n",
        "        in2 = self.input2[ind]\n",
        "        label = self.label[ind]\n",
        "        inp = preprocess(in1, self.tokenizer) + [2] + preprocess(in2, self.tokenizer)\n",
        "        length = torch.LongTensor([len(inp) + 2])\n",
        "        input = torch.LongTensor([0] + inp + [2])\n",
        "        label = torch.LongTensor([label])\n",
        "        return input, label, length"
      ],
      "metadata": {
        "id": "YAGeP-EcuTJk"
      },
      "execution_count": null,
      "outputs": []
    },
    {
      "cell_type": "code",
      "source": [
        "path = '/content/drive/MyDrive/project/snli_1.0/'\n",
        "train_iter = SNLIDataset(path, mode=\"train\")\n",
        "test_iter = SNLIDataset(path, mode=\"test\")\n",
        "val_iter = SNLIDataset(path, mode=\"dev\")\n",
        "dataloader = DataLoader(train_iter, batch_size=12, shuffle=False, collate_fn=partial(collate))\n",
        "testloader = DataLoader(test_iter, batch_size=12, shuffle=False, collate_fn=partial(collate))\n",
        "valloader = DataLoader(val_iter, batch_size=12, shuffle=False, collate_fn=partial(collate))"
      ],
      "metadata": {
        "id": "N1tNQH5eDm9t"
      },
      "execution_count": null,
      "outputs": []
    },
    {
      "cell_type": "code",
      "source": [
        "model = SelfExplainingModel().to(device)\n",
        "# optimizer = torch.optim.Adam(model.parameters(), lr=2e-5)\n",
        "optimizer = AdamW(model.parameters(), lr=2e-5)\n",
        "criterion = nn.CrossEntropyLoss()\n",
        "reg_lambda = 1\n",
        "num_epochs = 10\n",
        "scheduler = get_linear_schedule_with_warmup(optimizer, num_warmup_steps=0.1*len(dataloader), num_training_steps=len(dataloader))"
      ],
      "metadata": {
        "id": "n0nJUJ90Dq_y",
        "colab": {
          "base_uri": "https://localhost:8080/"
        },
        "outputId": "a5a68fe6-ae0e-4fec-dec5-8a219355b309"
      },
      "execution_count": null,
      "outputs": [
        {
          "output_type": "stream",
          "name": "stderr",
          "text": [
            "Some weights of the model checkpoint at roberta-base were not used when initializing RobertaModel: ['lm_head.bias', 'lm_head.decoder.weight', 'lm_head.layer_norm.weight', 'lm_head.dense.bias', 'lm_head.layer_norm.bias', 'lm_head.dense.weight']\n",
            "- This IS expected if you are initializing RobertaModel from the checkpoint of a model trained on another task or with another architecture (e.g. initializing a BertForSequenceClassification model from a BertForPreTraining model).\n",
            "- This IS NOT expected if you are initializing RobertaModel from the checkpoint of a model that you expect to be exactly identical (initializing a BertForSequenceClassification model from a BertForSequenceClassification model).\n"
          ]
        }
      ]
    },
    {
      "cell_type": "code",
      "source": [
        "train_loss, val_acc = train(model, dataloader, num_epochs, reg_lambda)"
      ],
      "metadata": {
        "id": "x5bqdD4LPXMz"
      },
      "execution_count": null,
      "outputs": []
    },
    {
      "cell_type": "code",
      "source": [
        "spans, explainers, incorrect_labels, acc, avg_span_length = test(model, testloader, isFileOutput=True)"
      ],
      "metadata": {
        "id": "1KcQgzJePYiT"
      },
      "execution_count": null,
      "outputs": []
    },
    {
      "cell_type": "code",
      "source": [
        "path = '/content/drive/MyDrive/project/interpret_snli/'\n",
        "\n",
        "with open(path + 'snli_1.0_test_explainers.jsonl', 'w', encoding='utf8') as f:\n",
        "  for item in explainers:\n",
        "    for ele in item:\n",
        "      json.dumps(ele)\n",
        "with open(path + 'snli_1.0_test_spans.jsonl', 'w', encoding='utf8') as f:\n",
        "  for item in spans:\n",
        "    for ele in item:\n",
        "      json.dumps(ele)\n",
        "with open(path +  'snli_1.0_test_incorrect_labels.jsonl', 'w', encoding='utf8') as f:\n",
        "  for item in incorrect_labels:\n",
        "    for ele in item:\n",
        "      json.dumps(ele)"
      ],
      "metadata": {
        "id": "Lnmeur42GtL7"
      },
      "execution_count": null,
      "outputs": []
    },
    {
      "cell_type": "code",
      "source": [
        "path = '/content/drive/MyDrive/project/interpret_snli/'\n",
        "test_spans_iter = SNLIDataset(path, mode=\"test_spans\")\n",
        "test_spans_loader = DataLoader(test_spans_iter, batch_size=10, shuffle=False, collate_fn=partial(collate))"
      ],
      "metadata": {
        "id": "nlQF9APSL8_L"
      },
      "execution_count": null,
      "outputs": []
    },
    {
      "cell_type": "code",
      "source": [
        "#The other experiments for F-S, S-F and S-S can be repeated as described above for SST-5"
      ],
      "metadata": {
        "id": "aLmWx-nCHNpp"
      },
      "execution_count": null,
      "outputs": []
    }
  ]
}